{
 "cells": [
  {
   "cell_type": "code",
   "execution_count": 99,
   "metadata": {},
   "outputs": [
    {
     "name": "stdout",
     "output_type": "stream",
     "text": [
      "0 01101 0101010101 = 0.333251953125 ≈ 1/3\n",
      "11110 => 13\n",
      "Expoente, 13 - 15\n",
      "= 0.333251953125\n"
     ]
    }
   ],
   "source": [
    "print('0 01101 0101010101 = 0.333251953125 ≈ 1/3')\n",
    "print('11110 =>', int('01101',2))\n",
    "print('Expoente, 13 - 15')\n",
    "print('=', 2**(-2)*(1+(2**(-2)+2**(-4)+2**(-6)+2**(-8)+2**(-10))))"
   ]
  },
  {
   "cell_type": "code",
   "execution_count": 2,
   "metadata": {},
   "outputs": [
    {
     "name": "stdout",
     "output_type": "stream",
     "text": [
      "1.0009765625\n",
      "0.15625\n",
      "-0.01171875\n"
     ]
    }
   ],
   "source": [
    "def halfPrecision(num):\n",
    "  isNormal=True\n",
    "  counter=1\n",
    "  fractional1=0\n",
    "  exp1=0\n",
    "  signal=int(num[0])\n",
    "  exp=num[1:6]\n",
    "  fractional=num[6:16]\n",
    "  value=0\n",
    "\n",
    "  if(exp=='00000'):\n",
    "    isNormal=False \n",
    "    exp=int((exp), 2)-14\n",
    "  elif(exp=='11111'):\n",
    "    print('Infinity')\n",
    "    return\n",
    "  else:\n",
    "    exp=int((exp), 2)-15\n",
    "\n",
    "  exp1=2**exp\n",
    "\n",
    "  for digit in fractional:\n",
    "    if digit=='1': \n",
    "      fractional1+=2**(-counter)\n",
    "    counter+=1\n",
    "\n",
    "  if (isNormal): value=(-1)**signal*(exp1*(1+fractional1))\n",
    "  else: value=(-1)**signal*(exp1*(0+fractional1)) \n",
    "  print(value)\n",
    "\n",
    "\n",
    "def singlePrecision(num):\n",
    "  isNormal=True\n",
    "  counter=1\n",
    "  fractional1=0\n",
    "  exp1=0\n",
    "  signal=int(num[0])\n",
    "  exp=num[1:9]\n",
    "  fractional=num[9:32]\n",
    "  value=0\n",
    "\n",
    "  if(exp=='00000000'):\n",
    "    isNormal=False \n",
    "    exp=int((exp), 2)-126\n",
    "  elif(exp=='11111111'):\n",
    "    print('Infinity')\n",
    "    return\n",
    "  else:\n",
    "    exp=int((exp), 2)-127\n",
    "\n",
    "  exp1=2**exp\n",
    "\n",
    "  for digit in fractional:\n",
    "    if digit=='1': \n",
    "      fractional1+=2**(-counter)\n",
    "    counter+=1\n",
    "\n",
    "  if (isNormal): value=(-1)**signal*(exp1*(1+fractional1))\n",
    "  else: value=(-1)**signal*(exp1*(0+fractional1)) \n",
    "  print(value)\n",
    "\n",
    "def doublePrecision(num):\n",
    "  isNormal=True\n",
    "  counter=1\n",
    "  fractional1=0\n",
    "  exp1=0\n",
    "  signal=int(num[0])\n",
    "  exp=num[1:12]\n",
    "  fractional=num[12:64]\n",
    "  value=0\n",
    "  \n",
    "\n",
    "  if(exp=='00000000000'):\n",
    "    isNormal=False \n",
    "    exp=int((exp), 2)-1022\n",
    "  elif(exp=='11111111111'):\n",
    "    print('Infinity')\n",
    "    return\n",
    "  else:\n",
    "    exp=int((exp), 2)-1023\n",
    "\n",
    "  exp1=2**exp\n",
    "\n",
    "  for digit in fractional:\n",
    "    if digit=='1': \n",
    "      fractional1+=2**(-counter)\n",
    "    counter+=1\n",
    "\n",
    "  if (isNormal): value=(-1)**signal*(exp1*(1+fractional1))\n",
    "  else: value=(-1)**signal*(exp1*(0+fractional1))\n",
    "  print(value)\n",
    "\n",
    "halfPrecision('0011110000000001')\n",
    "singlePrecision('00111110001000000000000000000000')  \n",
    "doublePrecision('1011111110001000000000000000000000000000000000000000000000000000')"
   ]
  }
 ],
 "metadata": {
  "anaconda-cloud": {},
  "kernelspec": {
   "display_name": "Python 3",
   "language": "python",
   "name": "python3"
  },
  "language_info": {
   "codemirror_mode": {
    "name": "ipython",
    "version": 3
   },
   "file_extension": ".py",
   "mimetype": "text/x-python",
   "name": "python",
   "nbconvert_exporter": "python",
   "pygments_lexer": "ipython3",
   "version": "3.6.5"
  }
 },
 "nbformat": 4,
 "nbformat_minor": 1
}
